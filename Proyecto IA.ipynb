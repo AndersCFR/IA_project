{
 "cells": [
  {
   "cell_type": "markdown",
   "id": "binding-intent",
   "metadata": {},
   "source": [
    "# Detección gestos de la Mano"
   ]
  },
  {
   "cell_type": "code",
   "execution_count": null,
   "id": "olive-dimension",
   "metadata": {},
   "outputs": [],
   "source": []
  }
 ],
 "metadata": {
  "kernelspec": {
   "display_name": "Python 3",
   "language": "python",
   "name": "python3"
  },
  "language_info": {
   "codemirror_mode": {
    "name": "ipython",
    "version": 3
   },
   "file_extension": ".py",
   "mimetype": "text/x-python",
   "name": "python",
   "nbconvert_exporter": "python",
   "pygments_lexer": "ipython3",
   "version": "3.8.0"
  }
 },
 "nbformat": 4,
 "nbformat_minor": 5
}
